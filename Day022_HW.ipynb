{
 "cells": [
  {
   "cell_type": "markdown",
   "metadata": {},
   "source": [
    "# 空氣污染監測網 網路爬蟲實作練習\n",
    "\n",
    "\n",
    "* 能夠利用 selenium + BeautifulSoup 撰寫爬蟲，並存放到合適的資料結構\n"
   ]
  },
  {
   "cell_type": "markdown",
   "metadata": {},
   "source": [
    "## 作業目標\n",
    "\n",
    "根據範例 ，完成以下問題：\n",
    "\n",
    "* ① 取出 台北市士林區 2018/01 – 2018/08 的 SO2 資料\n",
    "* ② 取出 台北市士林區 2018/01 – 2018/08 的 SO2、CO 資料\n",
    "\n",
    "\n",
    "\n"
   ]
  },
  {
   "cell_type": "markdown",
   "metadata": {},
   "source": [
    "### ① 取出 台北市士林區 2018/01 – 2018/08 的 SO2 資料"
   ]
  },
  {
   "cell_type": "code",
   "execution_count": 15,
   "metadata": {},
   "outputs": [],
   "source": [
    "# 打開瀏覽器\n",
    "\n",
    "from selenium import webdriver\n",
    "from selenium.webdriver.support.ui import Select\n",
    "from bs4 import BeautifulSoup\n",
    "\n",
    "browser = webdriver.Chrome(executable_path='chromedriver')\n",
    "\n",
    "browser.get(\"http://taqm.epa.gov.tw/taqm/tw/MonthlyAverage.aspx\")\n",
    "\n",
    "# 模擬使用者操作行為，選擇/點擊\n",
    "\n",
    "selectSite = Select(browser.find_element_by_id(\"ctl05_ddlSite\"))\n",
    "selectSite.select_by_value('11')\n",
    "selectYear = Select(browser.find_element_by_id(\"ctl05_ddlYear\"))\n",
    "selectYear.select_by_value('2018')\n",
    "\n",
    "browser.find_element_by_id('ctl05_btnQuery').click()\n"
   ]
  },
  {
   "cell_type": "code",
   "execution_count": 37,
   "metadata": {},
   "outputs": [
    {
     "data": {
      "text/plain": [
       "{'2018/01': '1.80',\n",
       " '2018/02': '1.90',\n",
       " '2018/03': '2.20',\n",
       " '2018/04': '2.30',\n",
       " '2018/05': '3.10',\n",
       " '2018/06': '2.70',\n",
       " '2018/07': '2.20',\n",
       " '2018/08': '2.40',\n",
       " '2018/09': '2.10',\n",
       " '2018/10': '1.70',\n",
       " '2018/11': '1.90',\n",
       " '2018/12': '1.80'}"
      ]
     },
     "execution_count": 37,
     "metadata": {},
     "output_type": "execute_result"
    }
   ],
   "source": [
    "# 取得資料，丟到 BeautifulSoup 解析\n",
    "\n",
    "html_source = browser.page_source\n",
    "\n",
    "soup = BeautifulSoup(html_source, 'html.parser')\n",
    "table = soup.find('table', class_='TABLE_G')\n",
    "\n",
    "d = {}\n",
    "for tr in table.find_all('tr')[1:]:\n",
    "    for i, td in enumerate(tr.find_all('td')):\n",
    "        if len(tr.find_all('td')) == 5:\n",
    "            if i == 0:\n",
    "                tag = td.text\n",
    "            if i == 2:\n",
    "                date = td.text\n",
    "            if i == 3:\n",
    "                value = td.text\n",
    "                if tag == \"SO2\":\n",
    "                    d[date] = value\n",
    "        if len(tr.find_all('td')) == 3:\n",
    "            if i == 0:\n",
    "                date = td.text\n",
    "            if i == 1:\n",
    "                value = td.text\n",
    "                if tag == \"SO2\":\n",
    "                    d[date] = value\n",
    "d"
   ]
  },
  {
   "cell_type": "markdown",
   "metadata": {},
   "source": [
    "### ② 取出 台北市士林區 2018/01 – 2018/08 的 SO2、CO 資料"
   ]
  },
  {
   "cell_type": "code",
   "execution_count": null,
   "metadata": {},
   "outputs": [],
   "source": [
    "browser = webdriver.Chrome(executable_path='chromedriver')\n",
    "\n",
    "browser.get(\"http://taqm.epa.gov.tw/taqm/tw/MonthlyAverage.aspx\")\n",
    "\n",
    "# 模擬使用者操作行為，選擇/點擊\n",
    "\n",
    "selectSite = Select(browser.find_element_by_id(\"ctl05_ddlSite\"))\n",
    "selectSite.select_by_value('11')\n",
    "selectYear = Select(browser.find_element_by_id(\"ctl05_ddlYear\"))\n",
    "selectYear.select_by_value('2018')\n",
    "\n",
    "browser.find_element_by_id('ctl05_btnQuery').click()"
   ]
  },
  {
   "cell_type": "code",
   "execution_count": null,
   "metadata": {},
   "outputs": [],
   "source": [
    "html_source = browser.page_source\n",
    "\n",
    "soup = BeautifulSoup(html_source, 'html.parser')\n",
    "table = soup.find('table', class_='TABLE_G')\n",
    "\n",
    "d = {}\n",
    "for tr in table.find_all('tr')[1:]:\n",
    "    for i, td in enumerate(tr.find_all('td')):\n",
    "        if len(tr.find_all('td')) == 5:\n",
    "            if i == 0:\n",
    "                tag = td.text\n",
    "                if tag == \"SO2\" or tag == \"\"\n",
    "            if i == 2:\n",
    "                date = td.text\n",
    "            if i == 3:\n",
    "                value = td.text\n",
    "                if tag == \"SO2\":\n",
    "                    d[date] = value\n",
    "        if len(tr.find_all('td')) == 3:\n",
    "            if i == 0:\n",
    "                date = td.text\n",
    "            if i == 1:\n",
    "                value = td.text\n",
    "                if tag == \"SO2\":\n",
    "                    d[date] = value\n",
    "d"
   ]
  }
 ],
 "metadata": {
  "kernelspec": {
   "display_name": "Python 3",
   "language": "python",
   "name": "python3"
  },
  "language_info": {
   "codemirror_mode": {
    "name": "ipython",
    "version": 3
   },
   "file_extension": ".py",
   "mimetype": "text/x-python",
   "name": "python",
   "nbconvert_exporter": "python",
   "pygments_lexer": "ipython3",
   "version": "3.7.4"
  }
 },
 "nbformat": 4,
 "nbformat_minor": 2
}
