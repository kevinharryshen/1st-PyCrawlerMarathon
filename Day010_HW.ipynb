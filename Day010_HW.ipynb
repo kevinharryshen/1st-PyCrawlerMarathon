{
 "cells": [
  {
   "cell_type": "markdown",
   "metadata": {},
   "source": [
    "# 其他工具：Grab、PyQuery\n",
    "\n",
    "\n",
    "* 利用 Grab 套件的存取 HTML 資源\n",
    "* 利用 PyQuery 套件的解析 HTML 格式\n"
   ]
  },
  {
   "cell_type": "markdown",
   "metadata": {},
   "source": [
    "## 作業目標\n",
    "\n",
    "將之前用 requests + beatifulsoup 實作的方式，改寫成 grab + pyquery，並且比較有哪些地方不同。\n",
    "\n",
    "\n",
    "\n"
   ]
  },
  {
   "cell_type": "markdown",
   "metadata": {},
   "source": [
    "## requests + BeautifulSoup\n"
   ]
  },
  {
   "cell_type": "code",
   "execution_count": 1,
   "metadata": {},
   "outputs": [
    {
     "name": "stdout",
     "output_type": "stream",
     "text": [
      "beautiful soup find type <class 'bs4.element.ResultSet'>\n",
      "img_url: https://i.imgur.com/Cgb5oo1.jpg\n",
      "<class 'urllib3.response.HTTPResponse'>\n",
      "Save image downloads/Cgb5oo1.jpeg\n",
      "img_url: https://i.imgur.com/MgjHY4f.jpg\n",
      "<class 'urllib3.response.HTTPResponse'>\n",
      "Save image downloads/MgjHY4f.jpeg\n",
      "img_url: https://i.imgur.com/yeoRtAs.jpg\n",
      "<class 'urllib3.response.HTTPResponse'>\n",
      "Save image downloads/yeoRtAs.jpeg\n",
      "img_url: https://i.imgur.com/wsauNEW.jpg\n",
      "<class 'urllib3.response.HTTPResponse'>\n",
      "Save image downloads/wsauNEW.jpeg\n",
      "img_url: https://i.imgur.com/IjiETcs.jpg\n",
      "<class 'urllib3.response.HTTPResponse'>\n",
      "Save image downloads/IjiETcs.jpeg\n"
     ]
    }
   ],
   "source": [
    "import requests\n",
    "import os\n",
    "\n",
    "from bs4 import BeautifulSoup\n",
    "from PIL import Image\n",
    "\n",
    "url = 'https://www.ptt.cc/bbs/Beauty/M.1556291059.A.75A.html'\n",
    "resp = requests.get(url, cookies={'over18': '1'})\n",
    "soup = BeautifulSoup(resp.text)\n",
    "\n",
    "# 決定要儲存的資料夾\n",
    "output_dir = 'downloads'\n",
    "\n",
    "# 假如資料夾不存在就新增一個資料夾\n",
    "if not os.path.exists(output_dir):\n",
    "    os.makedirs(output_dir)\n",
    "\n",
    "# 定位所有圖片的 tag\n",
    "image_tags = soup.find(id='main-content').findChildren('a', recursive=False)\n",
    "print(\"beautiful soup find type\",type(image_tags))\n",
    "for img_tag in image_tags:\n",
    "    # 取得所有圖片在第三方服務的 id\n",
    "    img_id = img_tag['href'].split('/')[-1]\n",
    "    # 組合圖片而非網站的網址\n",
    "    img_url = 'https://i.imgur.com/{}.jpg'.format(img_id)\n",
    "    print(\"img_url:\",img_url)\n",
    "    # 對圖片送出請求\n",
    "    with requests.get(img_url, stream=True) as r:\n",
    "        r.raise_for_status()\n",
    "        # 檢查圖片副檔名\n",
    "        img = Image.open(r.raw)\n",
    "        img_savename = '{outdir}/{img_id}.{img_ext}'.format(\n",
    "            outdir=output_dir, img_id=img_id, img_ext=img.format.lower())\n",
    "        img.save(img_savename)\n",
    "        print('Save image {}'.format(img_savename))"
   ]
  },
  {
   "cell_type": "markdown",
   "metadata": {},
   "source": [
    "## Grab + PyQuery"
   ]
  },
  {
   "cell_type": "code",
   "execution_count": 3,
   "metadata": {},
   "outputs": [
    {
     "name": "stdout",
     "output_type": "stream",
     "text": [
      "pyquery find type: <class 'bs4.element.Tag'>\n",
      "img_url: https://i.imgur.com/Cgb5oo1.jpg\n",
      "b''\n",
      "Save image ./downloads/Cgb5oo1.jpg\n",
      "img_url: https://i.imgur.com/MgjHY4f.jpg\n",
      "Save image ./downloads/MgjHY4f.jpg\n",
      "img_url: https://i.imgur.com/yeoRtAs.jpg\n",
      "Save image ./downloads/yeoRtAs.jpg\n",
      "img_url: https://i.imgur.com/wsauNEW.jpg\n",
      "Save image ./downloads/wsauNEW.jpg\n",
      "img_url: https://i.imgur.com/IjiETcs.jpg\n",
      "Save image ./downloads/IjiETcs.jpg\n"
     ]
    }
   ],
   "source": [
    "from grab import Grab\n",
    "from grab import error\n",
    "\n",
    "from pyquery import PyQuery as pq\n",
    "\n",
    "url = 'https://www.ptt.cc/bbs/Beauty/M.1556291059.A.75A.html'\n",
    "g = Grab()\n",
    "resp = g.go(url, cookies={'over18': '1'})\n",
    "doc = pq(resp.body)\n",
    "image_tags = doc('div#main-content').children('a').contents()\n",
    "print(\"pyquery find type:\",type(img_tag))\n",
    "for img_tag in image_tags:\n",
    "    # 取得所有圖片在第三方服務的 id\n",
    "    img_id = img_tag.split('/')[-1]\n",
    "    img_url = 'https://i.imgur.com/{}.jpg'.format(img_id)\n",
    "    print(\"img_url:\",img_url)\n",
    "    # 對圖片送出請求\n",
    "    img_savename = './{outdir}/{img_id}.jpg'.format(\n",
    "            outdir=output_dir, img_id=img_id)\n",
    "    resp_img = g.go(img_url)\n",
    "    error.GrabNetworkError\n",
    "    while resp_img.body == b'':\n",
    "        print(resp_img.body)\n",
    "        resp_img = g.go(img_url)\n",
    "    open(img_savename, 'wb').write(resp_img.body)\n",
    "    print('Save image {}'.format(img_savename))"
   ]
  },
  {
   "cell_type": "code",
   "execution_count": null,
   "metadata": {},
   "outputs": [],
   "source": []
  }
 ],
 "metadata": {
  "kernelspec": {
   "display_name": "Python 3",
   "language": "python",
   "name": "python3"
  },
  "language_info": {
   "codemirror_mode": {
    "name": "ipython",
    "version": 3
   },
   "file_extension": ".py",
   "mimetype": "text/x-python",
   "name": "python",
   "nbconvert_exporter": "python",
   "pygments_lexer": "ipython3",
   "version": "3.7.4"
  }
 },
 "nbformat": 4,
 "nbformat_minor": 2
}
