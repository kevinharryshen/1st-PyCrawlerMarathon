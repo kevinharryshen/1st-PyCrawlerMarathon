{
 "cells": [
  {
   "cell_type": "markdown",
   "metadata": {},
   "source": [
    "# 加速：非同步爬蟲\n",
    "\n",
    "* 了解非同步爬蟲加速原理與實作"
   ]
  },
  {
   "cell_type": "markdown",
   "metadata": {},
   "source": [
    "## 作業目標\n",
    "\n",
    "* 比較一下非同步爬蟲跟多線程爬蟲的差異是什麼？各自的優缺點為何？"
   ]
  },
  {
   "cell_type": "code",
   "execution_count": 1,
   "metadata": {
    "scrolled": true
   },
   "outputs": [
    {
     "data": {
      "text/plain": [
       "'\\nYour Input\\n'"
      ]
     },
     "execution_count": 1,
     "metadata": {},
     "output_type": "execute_result"
    }
   ],
   "source": [
    "多線程爬蟲是透過不同thread去執行不同的JOB。而非同步爬蟲，原則上仍然是單線程去執行該JOB。\n",
    "多線程與非同步的優點是可以加速爬蟲的執行效率。\n",
    "多線程的優點是，他設計理念比較直覺式，而且在多線程的線程夠多的狀況下，可以比單線程執行速度增快很多。\n",
    "但缺點是當線程太多時，程式設計不良的狀況下，很容易執行的結果不如預期，且多線程也有LOCK的問題需解決。\n",
    "至於非同步爬蟲上，優點是可以讓機器的執行時間與資源的利用最大化，進而加速爬蟲執行速度。\n",
    "但缺點是在設計上瓶頸會在機器上。"
   ]
  },
  {
   "cell_type": "code",
   "execution_count": null,
   "metadata": {},
   "outputs": [],
   "source": []
  }
 ],
 "metadata": {
  "colab": {
   "name": "homework.ipynb",
   "provenance": []
  },
  "kernelspec": {
   "display_name": "Python 3",
   "language": "python",
   "name": "python3"
  },
  "language_info": {
   "codemirror_mode": {
    "name": "ipython",
    "version": 3
   },
   "file_extension": ".py",
   "mimetype": "text/x-python",
   "name": "python",
   "nbconvert_exporter": "python",
   "pygments_lexer": "ipython3",
   "version": "3.7.4"
  }
 },
 "nbformat": 4,
 "nbformat_minor": 1
}
