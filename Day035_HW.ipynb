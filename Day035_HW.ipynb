{
 "cells": [
  {
   "cell_type": "markdown",
   "metadata": {},
   "source": [
    "# 加速：多線程爬蟲\n",
    "\n",
    "\n",
    "\n",
    "* 了解知乎 API 使用方式與回傳內容\n",
    "* 撰寫程式存取 API 且添加標頭"
   ]
  },
  {
   "cell_type": "markdown",
   "metadata": {},
   "source": [
    "## 作業目標\n",
    "\n",
    "* 找一個之前實作過的爬蟲改用多線程改寫，比較前後時間的差異。\n",
    "\n",
    "\n",
    "\n"
   ]
  },
  {
   "cell_type": "code",
   "execution_count": 1,
   "metadata": {},
   "outputs": [],
   "source": [
    "def check_proxy(ip):\n",
    "    try:\n",
    "        resp = requests.get('http://ip.filefab.com/index.php',\n",
    "                        proxies={'http': ip, 'https': ip}, timeout=10)\n",
    "        soup = BeautifulSoup(resp.text, 'html5lib')\n",
    "        print(soup.find('h1', id='ipd').text.strip())\n",
    "        return True\n",
    "    except:\n",
    "        print('Fail')\n",
    "        return False"
   ]
  },
  {
   "cell_type": "code",
   "execution_count": 4,
   "metadata": {},
   "outputs": [],
   "source": [
    "import requests\n",
    "from bs4 import BeautifulSoup\n",
    "import random\n",
    "import time"
   ]
  },
  {
   "cell_type": "code",
   "execution_count": 7,
   "metadata": {},
   "outputs": [
    {
     "name": "stdout",
     "output_type": "stream",
     "text": [
      "300\n"
     ]
    }
   ],
   "source": [
    "proxy_ips = []\n",
    "\n",
    "url = 'https://free-proxy-list.net/'\n",
    "r = requests.get(url)\n",
    "\n",
    "soup = BeautifulSoup(r.text, \"html5lib\")\n",
    "for tr in soup.find('table',class_=\"table table-striped table-bordered\").find_all(\"tr\"):\n",
    "    if tr.td:\n",
    "        ip = str()\n",
    "        port = str()\n",
    "        for i,td in enumerate(tr.find_all('td')):\n",
    "            if i == 0:\n",
    "                ip=td.text.strip()\n",
    "            if i == 1:\n",
    "                port=td.text.strip()\n",
    "            if ip and port and (ip + \":\" + port) not in proxy_ips:\n",
    "                proxy_ips.append(ip + \":\" + port)\n",
    "print(len(proxy_ips))"
   ]
  },
  {
   "cell_type": "code",
   "execution_count": 10,
   "metadata": {},
   "outputs": [
    {
     "name": "stdout",
     "output_type": "stream",
     "text": [
      "Use 123.200.20.242:58847\n",
      "Fail\n",
      "Use 181.30.28.14:3128\n",
      "Your IP address: 181.30.28.14\n",
      "Use 36.90.107.135:80\n",
      "Fail\n",
      "total elapse time: 23.363361120224\n"
     ]
    }
   ],
   "source": [
    "startTime = time.time()\n",
    "\n",
    "for i in range(3):\n",
    "    ip = random.choice(proxy_ips)\n",
    "    print('Use', ip)\n",
    "    check_proxy(ip)\n",
    "\n",
    "finishTime = time.time()\n",
    "print(\"total elapse time:\",finishTime - startTime) # 正常情況的爬蟲所需時間"
   ]
  },
  {
   "cell_type": "code",
   "execution_count": 9,
   "metadata": {},
   "outputs": [],
   "source": [
    "import _thread"
   ]
  },
  {
   "cell_type": "code",
   "execution_count": 11,
   "metadata": {},
   "outputs": [
    {
     "name": "stdout",
     "output_type": "stream",
     "text": [
      "Use 103.137.66.2:8080\n",
      "Use 103.78.74.150:8080\n",
      "Use 103.224.36.193:82\n",
      "total elapse time: 0.0\n",
      "Your IP address: 103.78.74.150\n",
      "Your IP address: 103.137.66.2\n",
      "Fail\n"
     ]
    }
   ],
   "source": [
    "startTime = time.time()\n",
    "\n",
    "for i in range(3):\n",
    "    ip = random.choice(proxy_ips)\n",
    "    print('Use', ip)\n",
    "    _thread.start_new_thread( check_proxy, (ip,) )\n",
    "\n",
    "finishTime = time.time()\n",
    "print(\"total elapse time:\",finishTime - startTime) # 正常情況的爬蟲所需時間"
   ]
  },
  {
   "cell_type": "code",
   "execution_count": null,
   "metadata": {},
   "outputs": [],
   "source": []
  }
 ],
 "metadata": {
  "colab": {
   "name": "homework.ipynb",
   "provenance": []
  },
  "kernelspec": {
   "display_name": "Python 3",
   "language": "python",
   "name": "python3"
  },
  "language_info": {
   "codemirror_mode": {
    "name": "ipython",
    "version": 3
   },
   "file_extension": ".py",
   "mimetype": "text/x-python",
   "name": "python",
   "nbconvert_exporter": "python",
   "pygments_lexer": "ipython3",
   "version": "3.7.4"
  }
 },
 "nbformat": 4,
 "nbformat_minor": 1
}
