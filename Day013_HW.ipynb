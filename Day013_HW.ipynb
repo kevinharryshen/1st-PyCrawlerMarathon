{
 "cells": [
  {
   "cell_type": "markdown",
   "metadata": {},
   "source": [
    "# PTT 網路爬蟲實作練習\n",
    "\n",
    "\n",
    "* 能夠利用 Request + BeatifulSour 撰寫爬蟲，並存放到合適的資料結構\n"
   ]
  },
  {
   "cell_type": "markdown",
   "metadata": {},
   "source": [
    "## 作業目標\n",
    "\n",
    "根據範例 ，完成以下問題：\n",
    "\n",
    "* ① 印出最新文章的「作者」「標題」「時間」\n",
    "* ② 印出第一頁所有文章的「作者」「標題」「時間」\n"
   ]
  },
  {
   "cell_type": "markdown",
   "metadata": {},
   "source": [
    "### ① 印出最新文章的「作者」「標題」「時間」"
   ]
  },
  {
   "cell_type": "code",
   "execution_count": 1,
   "metadata": {},
   "outputs": [
    {
     "name": "stdout",
     "output_type": "stream",
     "text": [
      "作者 : jingthreept (大哥哥 大姐姐)\n",
      "標題 : Re: [BOX] Magic 103:118 Blazers 數據\n",
      "時間 : Sat Dec 21 19:43:40 2019\n"
     ]
    }
   ],
   "source": [
    "import requests\n",
    "from bs4 import BeautifulSoup\n",
    "\n",
    "url = 'https://www.ptt.cc/bbs/NBA/index.html'\n",
    "r = requests.get(url)\n",
    "\n",
    "soup = BeautifulSoup(r.text, \"html5lib\")\n",
    "url_first = \"https://www.ptt.cc\" + soup.find(class_=\"r-ent\").findChildren(class_=\"title\")[0].find('a')['href']\n",
    "s = BeautifulSoup(requests.get(url_first).text,\"html5lib\")\n",
    "for d in s.find_all(class_='article-metaline'):\n",
    "    print(d.find(class_=\"article-meta-tag\").text,\":\",d.find(class_=\"article-meta-value\").text)"
   ]
  },
  {
   "cell_type": "markdown",
   "metadata": {},
   "source": [
    "### ② 印出第一頁所有文章的「作者」「標題」「時間」"
   ]
  },
  {
   "cell_type": "code",
   "execution_count": 2,
   "metadata": {},
   "outputs": [
    {
     "name": "stdout",
     "output_type": "stream",
     "text": [
      "Re: [BOX] Magic 103:118 Blazers 數據\n",
      "作者 : jingthreept (大哥哥 大姐姐)\n",
      "標題 : Re: [BOX] Magic 103:118 Blazers 數據\n",
      "時間 : Sat Dec 21 19:43:40 2019\n",
      "Re: [外絮] 76人教練Brown: 過去三戰我們打的爛透了\n",
      "作者 : SeungYeon (我愛勝妍)\n",
      "標題 : Re: [外絮] 76人教練Brown: 過去三戰我們打的爛透了\n",
      "時間 : Sat Dec 21 19:49:29 2019\n",
      "[花邊] 林書豪坦承在球場上被罷凌\n",
      "作者 : blue999 (FLY)\n",
      "標題 : [花邊] 林書豪坦承在球場上被罷凌\n",
      "時間 : Sat Dec 21 20:27:51 2019\n",
      "[討論] Spoelstra是不是比我們想得還有料?\n",
      "作者 : ChrisDavis (工業電風扇)\n",
      "標題 : [討論] Spoelstra是不是比我們想得還有料?\n",
      "時間 : Sat Dec 21 20:38:51 2019\n",
      "[花邊] 超賽 Tacko Fall 今天的「火影忍者」球鞋\n",
      "作者 : Aotearoa (長白雲之鄉)\n",
      "標題 : [花邊] 超賽 Tacko Fall 今天的「火影忍者」球鞋\n",
      "時間 : Sat Dec 21 21:22:20 2019\n",
      "Re: [花邊] 林書豪坦承在球場上被罷凌\n",
      "作者 : lens82801 (開始QQ的見習生)\n",
      "標題 : Re: [花邊] 林書豪坦承在球場上被罷凌\n",
      "時間 : Sat Dec 21 22:12:51 2019\n",
      "[新聞] 未來和兒子一起打球？詹皇：他未必能打NB\n",
      "作者 : Gotham (萬惡之城)\n",
      "標題 : [新聞] 未來和兒子一起打球？詹皇：他未必能打NB\n",
      "時間 : Sat Dec 21 23:58:42 2019\n",
      "[公告] 板規v6.7\n",
      "[公告] 樂透取消及未來不再開啟樂透\n",
      "作者 : Vedan (味丹)\n",
      "標題 : [公告] 樂透取消及未來不再開啟樂透\n",
      "時間 : Mon Jun 24 15:08:02 2019\n",
      "[公告] 版主上任相關事項 \n",
      "作者 : qazwsx879345 (Rajon Rondo)\n",
      "標題 : [公告] 版主上任相關事項\n",
      "時間 : Fri Oct 25 10:44:03 2019\n",
      "[情報] SEASON Schedule 賽程 December 19–20\n",
      "作者 : JerroLi (銀色小刀)\n",
      "標題 : [情報] SEASON Schedule 賽程 December 19–20\n",
      "時間 : Fri Nov 29 00:46:01 2019\n",
      "[公告] 是否禁止記者鄭廷瑋文章投票開始\n",
      "作者 : dragon803 (好想去露營啊~)\n",
      "標題 : [討論] 是否禁止記者鄭廷瑋文章投票開始\n",
      "時間 : Mon Dec 16 18:28:57 2019\n"
     ]
    }
   ],
   "source": [
    "url = 'https://www.ptt.cc/bbs/NBA/index.html'\n",
    "r = requests.get(url)\n",
    "\n",
    "soup = BeautifulSoup(r.text, \"html5lib\")\n",
    "\n",
    "for d in soup.find_all(class_=\"title\"):\n",
    "    print(d.text.replace('\\t', '').replace('\\n', ''))\n",
    "    try:\n",
    "        r = BeautifulSoup(requests.get('https://www.ptt.cc'+d.find('a')['href']).text, \"html5lib\")\n",
    "        for d in r.find_all(class_='article-metaline'):\n",
    "            print(d.find(class_=\"article-meta-tag\").text,\":\",d.find(class_=\"article-meta-value\").text)\n",
    "    except:\n",
    "        continue"
   ]
  },
  {
   "cell_type": "markdown",
   "metadata": {},
   "source": [
    "### ③ 試著爬爬看其他版的文章"
   ]
  },
  {
   "cell_type": "code",
   "execution_count": 3,
   "metadata": {},
   "outputs": [
    {
     "name": "stdout",
     "output_type": "stream",
     "text": [
      "[閒聊] 妮可知道對我做過什麼最殘忍嗎\n",
      "作者 : Nashih (bp6g/ cl3s06)\n",
      "標題 : [閒聊] 妮可知道對我做過什麼最殘忍嗎\n",
      "時間 : Sat Dec 21 20:07:24 2019\n",
      "Re: [電競] 德瑪西亞杯 day1\n",
      "作者 : diefish5566 (還我姆咪)\n",
      "標題 : Re: [電競] 德瑪西亞杯 day1\n",
      "時間 : Sat Dec 21 20:19:55 2019\n",
      "[閒聊]【統神】騙陪玩妹子自己像汪大東\n",
      "作者 : mod980 (玖八靈)\n",
      "標題 : [閒聊]【統神】騙陪玩妹子自己像汪大東\n",
      "時間 : Sat Dec 21 20:22:21 2019\n",
      "[閒聊] 這到底是三小鉤子?\n",
      "作者 : A816 (♥七瀬丸的理想老公♥)\n",
      "標題 : [閒聊] 這到底是三小鉤子?\n",
      "時間 : Sat Dec 21 20:40:50 2019\n",
      "[實況] 這個張捷 / 美少女戰士啾 大師AD\n",
      "作者 : Zarooor (小仙女)\n",
      "標題 : [實況] 這個張捷 / 美少女戰士啾 大師AD\n",
      "時間 : Sat Dec 21 20:54:59 2019\n",
      "[閒聊] 盤點LPL的台灣之光  該寄生哪一隊？\n",
      "作者 : jevin (帥到不行)\n",
      "標題 : [閒聊] 盤點LPL的台灣之光  該寄生哪一隊？\n",
      "時間 : Sat Dec 21 21:20:03 2019\n",
      "[實況] 斗基督機大神/鬼話新聞紅蟻/大花錢/QQPR\n",
      "作者 : tigerclamp (老虎鉗)\n",
      "標題 : [實況] 斗基督機大神/鬼話新聞紅蟻/大花錢/QQPR\n",
      "時間 : Sat Dec 21 21:21:41 2019\n",
      "[實況] MaRin\n",
      "作者 : Nishiwaki (拎拎腦波弱)\n",
      "標題 : [實況] MaRin\n",
      "時間 : Sat Dec 21 21:31:04 2019\n",
      "[揪團] DERANK積分\n",
      "作者 : pupu60388 (Nate)\n",
      "標題 : [揪團] DERANK積分\n",
      "時間 : Sat Dec 21 21:51:08 2019\n",
      "[閒聊] 小熊 Yuniko FB\n",
      "作者 : HaiTurtle (海龜小幫手)\n",
      "標題 : [閒聊] 小熊 Yuniko FB\n",
      "時間 : Sat Dec 21 21:54:29 2019\n",
      "[實況] SSRocket 菁英 台服蓋倫王 \n",
      "作者 : C24128390 (Cloner)\n",
      "標題 : [實況] SSRocket 菁英 台服蓋倫王 \n",
      "時間 : Sat Dec 21 22:10:13 2019\n",
      "[問題] 聖誕簽到任務7的藍粉能換到多少橘粉？\n",
      "作者 : zhtw (BEASTARS)\n",
      "標題 : [問題] 聖誕簽到任務7的藍粉能換到多少橘粉？\n",
      "時間 : Sat Dec 21 22:44:32 2019\n",
      "[閒聊] 黛安娜的W能觸發熾灼魔器是正常設定嗎？\n",
      "作者 : PeterHu0827 (6讀生)\n",
      "標題 : [閒聊] 黛安娜的W能觸發熾灼魔器是正常設定嗎？\n",
      "時間 : Sat Dec 21 22:53:12 2019\n",
      "[閒聊] PCS(跟今年LMS)有LPL二軍的實力嗎？\n",
      "作者 : joanzkow (星浪)\n",
      "標題 : [閒聊] PCS有LPL二軍的實力嗎？\n",
      "時間 : Sat Dec 21 23:26:08 2019\n",
      "[問題] 港仔是不是很討厭張家兄弟啊？\n",
      "作者 : RLAPH (川尻浩作)\n",
      "標題 : [問題] 港仔是不是很討厭張家兄弟啊？\n",
      "時間 : Sat Dec 21 23:44:45 2019\n",
      "[揪團] aram\n",
      "作者 : chris5228 (夜)\n",
      "標題 : [揪團] aram\n",
      "時間 : Sat Dec 21 23:59:17 2019\n",
      "[閒聊] 同人圖分享-不祥之刃 卡特蓮娜 Katarina\n",
      "作者 : f222051618 (  珍  珠  奶  茶  )\n",
      "標題 : [閒聊] 同人圖分享-不祥之刃 卡特蓮娜 Katarina\n",
      "時間 : Sun Dec 22 00:47:28 2019\n",
      "(本文已被刪除) [SmoWeI]\n",
      "[公告] 伺服器狀況詢問/聊天/揪團/抱怨/多功能區\n",
      "[公告] LoL 英雄聯盟板板規（Patch 19.10.02）\n",
      "[情報] 12/12 闇夜黎明版本更新 (9.24)\n",
      "作者 : d86249 (金羊)\n",
      "標題 : [情報] 12/12 闇夜黎明版本更新 (9.24)\n",
      "時間 : Thu Dec 12 07:26:34 2019\n",
      "[外絮] PCS 聯賽 戰隊/賽制/開賽日期情報\n",
      "作者 : S890127 (丁讀生)\n",
      "標題 : [外絮] PCS 聯賽 戰隊/賽制/開賽日期情報\n",
      "時間 : Thu Dec 19 11:34:42 2019\n"
     ]
    }
   ],
   "source": [
    "url = 'https://www.ptt.cc/bbs/LoL/index.html'\n",
    "r = requests.get(url,cookies={'over18': '1'})\n",
    "\n",
    "soup = BeautifulSoup(r.text, \"html5lib\")\n",
    "\n",
    "for d in soup.find_all(class_=\"title\"):\n",
    "    print(d.text.replace('\\t', '').replace('\\n', ''))\n",
    "    try:\n",
    "        r = BeautifulSoup(requests.get('https://www.ptt.cc'+d.find('a')['href'],cookies={'over18': '1'}).text, \"html5lib\")\n",
    "        for d in r.find_all(class_='article-metaline'):\n",
    "            print(d.find(class_=\"article-meta-tag\").text,\":\",d.find(class_=\"article-meta-value\").text)\n",
    "    except:\n",
    "        continue"
   ]
  },
  {
   "cell_type": "code",
   "execution_count": null,
   "metadata": {},
   "outputs": [],
   "source": []
  }
 ],
 "metadata": {
  "kernelspec": {
   "display_name": "Python 3",
   "language": "python",
   "name": "python3"
  },
  "language_info": {
   "codemirror_mode": {
    "name": "ipython",
    "version": 3
   },
   "file_extension": ".py",
   "mimetype": "text/x-python",
   "name": "python",
   "nbconvert_exporter": "python",
   "pygments_lexer": "ipython3",
   "version": "3.7.4"
  }
 },
 "nbformat": 4,
 "nbformat_minor": 2
}
