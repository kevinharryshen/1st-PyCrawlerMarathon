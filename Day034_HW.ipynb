{
 "cells": [
  {
   "cell_type": "markdown",
   "metadata": {
    "colab_type": "text",
    "id": "I8CoX4R7VoCd"
   },
   "source": [
    "# 反爬：代理伺服器/IP\n",
    "\n",
    "* 了解「IP 黑/白名單」的反爬蟲機制\n",
    "* 「IP 黑/白名單」反爬蟲的因應策略"
   ]
  },
  {
   "cell_type": "markdown",
   "metadata": {
    "colab_type": "text",
    "id": "n-3DZ_r5VoCe"
   },
   "source": [
    "## 作業目標\n",
    "\n",
    "* 目前程式中的 proxy_ips 是手動輸入的，請根據 https://free-proxy-list.net/ 寫一個可自動化抓取可用 Proxy 的 proxy_ips。\n",
    "\n",
    "\n"
   ]
  },
  {
   "cell_type": "code",
   "execution_count": 51,
   "metadata": {},
   "outputs": [],
   "source": [
    "import requests\n",
    "from bs4 import BeautifulSoup\n",
    "import random"
   ]
  },
  {
   "cell_type": "code",
   "execution_count": 63,
   "metadata": {
    "colab": {},
    "colab_type": "code",
    "id": "iny-9heBVoCf"
   },
   "outputs": [
    {
     "name": "stdout",
     "output_type": "stream",
     "text": [
      "300\n"
     ]
    }
   ],
   "source": [
    "proxy_ips = []\n",
    "\n",
    "url = 'https://free-proxy-list.net/'\n",
    "r = requests.get(url)\n",
    "\n",
    "soup = BeautifulSoup(r.text, \"html5lib\")\n",
    "for tr in soup.find('table',class_=\"table table-striped table-bordered\").find_all(\"tr\"):\n",
    "    if tr.td:\n",
    "        ip = str()\n",
    "        port = str()\n",
    "        for i,td in enumerate(tr.find_all('td')):\n",
    "            if i == 0:\n",
    "                ip=td.text.strip()\n",
    "            if i == 1:\n",
    "                port=td.text.strip()\n",
    "            if ip and port and (ip + \":\" + port) not in proxy_ips:\n",
    "                proxy_ips.append(ip + \":\" + port)\n",
    "print(len(proxy_ips))"
   ]
  },
  {
   "cell_type": "code",
   "execution_count": 64,
   "metadata": {
    "colab": {},
    "colab_type": "code",
    "id": "75dIsHjiVoCi"
   },
   "outputs": [
    {
     "name": "stdout",
     "output_type": "stream",
     "text": [
      "Use 157.245.34.182:80\n",
      "Fail\n",
      "Use 109.175.29.22:37100\n",
      "Your IP address: 109.175.29.22\n",
      "Use 179.40.75.1:38736\n",
      "Fail\n",
      "Use 124.122.179.153:8118\n",
      "Fail\n",
      "Use 182.52.51.59:38238\n",
      "Your IP address: 182.52.51.59\n",
      "Use 178.239.152.77:8080\n",
      "Fail\n",
      "Use 116.90.229.186:59602\n",
      "Fail\n",
      "Use 36.89.192.115:53219\n",
      "Fail\n",
      "Use 212.126.107.2:31475\n",
      "Fail\n",
      "Use 190.0.53.26:34212\n",
      "Fail\n"
     ]
    },
    {
     "data": {
      "text/plain": [
       "292"
      ]
     },
     "execution_count": 64,
     "metadata": {},
     "output_type": "execute_result"
    }
   ],
   "source": [
    "for i in range(10):\n",
    "    ip = random.choice(proxy_ips)\n",
    "    print('Use', ip)\n",
    "    try:\n",
    "        resp = requests.get('http://ip.filefab.com/index.php',\n",
    "                        proxies={'http': ip, 'https': ip}, timeout=10)\n",
    "        soup = BeautifulSoup(resp.text, 'html5lib')\n",
    "        print(soup.find('h1', id='ipd').text.strip())\n",
    "    except:\n",
    "        print('Fail')\n",
    "        proxy_ips.remove(ip)\n",
    "len(proxy_ips)"
   ]
  },
  {
   "cell_type": "code",
   "execution_count": null,
   "metadata": {},
   "outputs": [],
   "source": []
  }
 ],
 "metadata": {
  "colab": {
   "name": "homework.ipynb",
   "provenance": []
  },
  "kernelspec": {
   "display_name": "Python 3",
   "language": "python",
   "name": "python3"
  },
  "language_info": {
   "codemirror_mode": {
    "name": "ipython",
    "version": 3
   },
   "file_extension": ".py",
   "mimetype": "text/x-python",
   "name": "python",
   "nbconvert_exporter": "python",
   "pygments_lexer": "ipython3",
   "version": "3.7.4"
  }
 },
 "nbformat": 4,
 "nbformat_minor": 1
}
