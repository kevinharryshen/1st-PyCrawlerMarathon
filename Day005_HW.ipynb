{
 "cells": [
  {
   "cell_type": "markdown",
   "metadata": {},
   "source": [
    "# API 資料串接 - 以 Dcard API 實作範例\n",
    "\n",
    "* 了解 Dcard API 使用方式與回傳內容\n",
    "* 撰寫程式存取 API 且解析 JSON 格式資料\n"
   ]
  },
  {
   "cell_type": "markdown",
   "metadata": {},
   "source": [
    "## 作業目標\n",
    "\n",
    "* 請利用 API: https://www.dcard.tw/_api/forums/pet/posts?popular=true 回答下列問題：\n",
    "\n",
    "1. 這個 API 一次會回傳幾筆資料？每一筆資料包含哪些欄位？\n",
    "2. 取出每一筆資料的「標題」、「貼文時間」、「留言人數」、「按讚人數」\n",
    "3. 計算熱門/非熱門文章的「平均留言人數」與「平均按讚人數」"
   ]
  },
  {
   "cell_type": "code",
   "execution_count": 14,
   "metadata": {},
   "outputs": [
    {
     "name": "stdout",
     "output_type": "stream",
     "text": [
      "一次會回傳30筆資料\n",
      "資料包含dict_keys(['id', 'title', 'excerpt', 'anonymousSchool', 'anonymousDepartment', 'pinned', 'forumId', 'replyId', 'createdAt', 'updatedAt', 'commentCount', 'likeCount', 'withNickname', 'tags', 'topics', 'meta', 'forumName', 'forumAlias', 'gender', 'school', 'replyTitle', 'mediaMeta', 'reactions', 'hidden', 'customStyle', 'isSuspiciousAccount', 'layout', 'withImages', 'withVideos', 'media', 'reportReasonText', 'postAvatar'])欄位\n"
     ]
    }
   ],
   "source": [
    "# 1. 這個 API 一次會回傳幾筆資料？每一筆資料包含哪些欄位？\n",
    "\n",
    "import requests\n",
    "r = requests.get('https://www.dcard.tw/_api/forums/pet/posts?popular=true')\n",
    "response = r.text\n",
    "import json\n",
    "data = json.loads(response)\n",
    "print(\"一次會回傳{}筆資料\".format(len(data)))\n",
    "print(\"資料包含{}欄位\".format(data[0].keys()))"
   ]
  },
  {
   "cell_type": "code",
   "execution_count": 22,
   "metadata": {},
   "outputs": [
    {
     "name": "stdout",
     "output_type": "stream",
     "text": [
      "標題:好像買太小了...\t貼文時間:2019-12-01T08:27:28.504Z\t留言人數:90\t按讚人數:9247\n",
      "標題:貓咪沒在尊重男友\t貼文時間:2019-12-01T10:44:13.896Z\t留言人數:22\t按讚人數:684\n",
      "標題:散步好夥伴🐶漆黑寒冷的夜晚也找得到便便💩\t貼文時間:2019-12-02T02:51:47.393Z\t留言人數:0\t按讚人數:301\n",
      "標題:可以幫幫我推上熱門嗎急尋狗啟示\t貼文時間:2019-12-01T17:56:16.299Z\t留言人數:3\t按讚人數:266\n",
      "標題:#圖多 可愛喵喵們(⁎⁍̴̛ᴗ⁍̴̛⁎)\t貼文時間:2019-12-01T08:44:25.791Z\t留言人數:3\t按讚人數:148\n",
      "標題:餵養的浪貓得了乳腺瘤\t貼文時間:2019-12-02T05:29:49.540Z\t留言人數:4\t按讚人數:52\n",
      "標題:#貓 擁有狗靈魂的貓\t貼文時間:2019-12-01T11:43:58.401Z\t留言人數:4\t按讚人數:40\n",
      "標題:兔兔的睡姿⋯⋯\t貼文時間:2019-12-01T09:01:55.400Z\t留言人數:5\t按讚人數:39\n",
      "標題:有這麼不爽嗎(･ัω･ั)\t貼文時間:2019-12-02T08:31:17.626Z\t留言人數:5\t按讚人數:37\n",
      "標題:我養了三隻蟲？🐛\t貼文時間:2019-12-01T12:17:06.699Z\t留言人數:1\t按讚人數:30\n",
      "標題:寵物過世碰到的外套\t貼文時間:2019-12-01T09:23:54.879Z\t留言人數:3\t按讚人數:30\n",
      "標題:來嘛~~來吸我啊~\t貼文時間:2019-12-01T11:56:53.031Z\t留言人數:7\t按讚人數:29\n",
      "標題:我在日本養了一隻貓(圖多\t貼文時間:2019-12-02T02:38:35.799Z\t留言人數:1\t按讚人數:28\n",
      "標題:我家的紅貴賓到底是不是人轉世？\t貼文時間:2019-12-01T06:13:52.856Z\t留言人數:5\t按讚人數:25\n",
      "標題:我到底養了什麼貓....（...微西斯）\t貼文時間:2019-12-02T11:45:50.709Z\t留言人數:4\t按讚人數:24\n",
      "標題:送養\t貼文時間:2019-12-02T02:36:37.309Z\t留言人數:5\t按讚人數:21\n",
      "標題:基隆瑞芳深澳坑走失協找 拜託❗️❗️\t貼文時間:2019-12-01T12:22:04.478Z\t留言人數:2\t按讚人數:21\n",
      "標題:我家的老阿公\t貼文時間:2019-12-02T06:22:36.958Z\t留言人數:2\t按讚人數:20\n",
      "標題:是我太髒嗎?\t貼文時間:2019-12-02T09:16:23.658Z\t留言人數:3\t按讚人數:17\n",
      "標題:#急#刺蝟\t貼文時間:2019-12-02T05:06:34.886Z\t留言人數:8\t按讚人數:17\n",
      "標題:你有看過這隻狗嗎？\t貼文時間:2019-12-01T20:33:16.869Z\t留言人數:2\t按讚人數:17\n",
      "標題:同學你的貓貓\t貼文時間:2019-12-02T12:11:28.555Z\t留言人數:7\t按讚人數:14\n",
      "標題:中壢/米克斯狗女兒走失\t貼文時間:2019-12-01T10:58:09.738Z\t留言人數:0\t按讚人數:14\n",
      "標題:吉娃娃才不吉敗咧\t貼文時間:2019-12-01T09:17:16.567Z\t留言人數:7\t按讚人數:14\n",
      "標題:淘寶寵物用品開箱&心得📦🐱\t貼文時間:2019-12-01T06:19:59.473Z\t留言人數:9\t按讚人數:14\n",
      "標題:我家曠世怨婦🐱\t貼文時間:2019-12-02T06:56:01.120Z\t留言人數:0\t按讚人數:13\n",
      "標題:若要抱貓，必先成貓\t貼文時間:2019-12-02T05:44:06.710Z\t留言人數:0\t按讚人數:13\n",
      "標題:#圖 板橋貓咪走失（已找到）\t貼文時間:2019-12-02T03:50:17.266Z\t留言人數:3\t按讚人數:12\n",
      "標題:她是真的不是假的🌚\t貼文時間:2019-12-01T16:18:44.132Z\t留言人數:0\t按讚人數:11\n",
      "標題:#協尋 玄鳳鸚鵡（已找到愛鳥 謝謝大家 謝謝好心人）\t貼文時間:2019-12-01T05:33:55.211Z\t留言人數:2\t按讚人數:11\n"
     ]
    }
   ],
   "source": [
    "# 2. 取出每一筆資料的「標題」、「貼文時間」、「留言人數」、「按讚人數」\n",
    "\n",
    "for item in data:\n",
    "    print(\"標題:\"+item['title'] + \"\\t貼文時間:\" + item['createdAt'] + \"\\t留言人數:\" + str(item['commentCount']) + \"\\t按讚人數:\" + str(item['likeCount']))"
   ]
  },
  {
   "cell_type": "code",
   "execution_count": 37,
   "metadata": {},
   "outputs": [
    {
     "data": {
      "text/plain": [
       "30"
      ]
     },
     "execution_count": 37,
     "metadata": {},
     "output_type": "execute_result"
    }
   ],
   "source": [
    "# 3. 計算熱門/非熱門文章的「平均留言人數」與「平均按讚人數」\n",
    "\n",
    "r_notPopular = requests.get('https://www.dcard.tw/_api/forums/pet/posts?popular=false')\n",
    "response_notPopular = r_notPopular.text\n",
    "data_notPopular = json.loads(response_notPopular)\n",
    "\n",
    "print(\"熱門：\")\n",
    "print(\"平均留言人數:{}\".format(sum([popular['commentCount'] for popular in data])/len(data)))\n",
    "\n",
    "print(\"非熱門：\")\n",
    "print(\"平均留言人數:{}\".format(sum([not_popular['commentCount'] for not_popular in data_notPopular])/len(data_notPopular)))"
   ]
  },
  {
   "cell_type": "code",
   "execution_count": null,
   "metadata": {},
   "outputs": [],
   "source": []
  },
  {
   "cell_type": "code",
   "execution_count": null,
   "metadata": {},
   "outputs": [],
   "source": []
  }
 ],
 "metadata": {
  "kernelspec": {
   "display_name": "Python 3",
   "language": "python",
   "name": "python3"
  },
  "language_info": {
   "codemirror_mode": {
    "name": "ipython",
    "version": 3
   },
   "file_extension": ".py",
   "mimetype": "text/x-python",
   "name": "python",
   "nbconvert_exporter": "python",
   "pygments_lexer": "ipython3",
   "version": "3.7.4"
  }
 },
 "nbformat": 4,
 "nbformat_minor": 2
}
